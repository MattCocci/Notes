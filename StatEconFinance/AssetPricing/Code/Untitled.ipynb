{
 "cells": [
  {
   "cell_type": "markdown",
   "metadata": {},
   "source": [
    "# State Diagram Geometry"
   ]
  },
  {
   "cell_type": "markdown",
   "metadata": {},
   "source": [
    "## Two States"
   ]
  },
  {
   "cell_type": "code",
   "execution_count": null,
   "metadata": {
    "collapsed": false
   },
   "outputs": [],
   "source": [
    "using PyPlot, Distributions, LaTeXStrings, PyCall\n",
    "include(\"ndgrid.jl\")\n",
    "\n",
    "function myplot(p, p0=[0 0]; arrow=false, style=\"-\", col=\"black\", addtext=false)\n",
    "    px,  py  = p\n",
    "    px0, py0 = p0\n",
    "    plot([px0, px], [py0, py], style, color=col) \n",
    "    if arrow\n",
    "        annotate(\"\", (px0, py0), (px, py), arrowprops={\"arrowstyle\"=>\"<-\", \"color\"=>col})\n",
    "    end\n",
    "    if addtext\n",
    "        text(px, py, \"($px, $py)\")\n",
    "    end\n",
    "end\n",
    "\n",
    "# Project y onto x\n",
    "function proj(y,x)\n",
    "    beta = (x'*x)\\x' * y\n",
    "    return beta .* x\n",
    "end;\n"
   ]
  },
  {
   "cell_type": "markdown",
   "metadata": {},
   "source": [
    "The contingent claims price vector points into the positive orthant. This is a consequence of positive marginal utilities and probabilities."
   ]
  },
  {
   "cell_type": "code",
   "execution_count": null,
   "metadata": {
    "collapsed": false
   },
   "outputs": [],
   "source": [
    "pc = [0.6 0.9]'\n",
    "function Fig1()\n",
    "    myplot(pc*5, col=\"gray\", style=\":\")\n",
    "    myplot(pc, addtext=true, arrow=true)\n",
    "    axis(\"scaled\")\n",
    "    axis((-1, 3, -1, 3))\n",
    "end\n",
    "Fig1();"
   ]
  },
  {
   "cell_type": "markdown",
   "metadata": {},
   "source": [
    "Payoffs can be represented as vectors in $\\mathbb{R}^2$"
   ]
  },
  {
   "cell_type": "code",
   "execution_count": null,
   "metadata": {
    "collapsed": false
   },
   "outputs": [],
   "source": [
    "function Fig2()\n",
    "    Fig1()\n",
    "    myplot([0.75, 2.5], addtext=true, arrow=true, col=\"red\")\n",
    "    myplot([1.5, 0.5], addtext=true, arrow=true, col=\"blue\")\n",
    "end\n",
    "Fig2();"
   ]
  },
  {
   "cell_type": "markdown",
   "metadata": {},
   "source": [
    "For any payoff vector $x\\in\\mathbb{R}^2$, its price can be written as an inner product with the contingent claims price vector:\n",
    "\n",
    "$$\n",
    "    p(x) = pc' x = \\sum_s pc(s) x(s)\n",
    "$$\n",
    "\n",
    "Recall that inner products are simply a projection and a stretching:\n",
    "\n",
    "$$\n",
    "       p(x) = pc'x = |pc| \\times |\\text{proj}(x|pc)| \n",
    "$$\n",
    "\n",
    "Now because $|pc|$ is the same for any payoff $x$, it's clear that all payoffs with identical projection onto $pc$ will have an _identical_ price, i.e.\n",
    "\n",
    "$$\n",
    "    p(x) = p(x^*) \\qquad \\forall x \\; \\text{s.t.} \\; \\text{proj}(x|pc) = \\text{proj}(x^*|pc)\n",
    "$$\n",
    "\n",
    "Recall that projection geometrically means \"traveling at a right angle\". So we could do the following \n",
    "\n",
    "1. Pick some vector $x^*$ with price $pc'x^*=$\\$2\n",
    "2. Trace out a line through this point that intersects $pc$ at a right angle\n",
    "3. Extend that line infinitely in either direction\n",
    "\n",
    "Then this line will trace out the set of _all_ $x$ such that $p(x)=p(x^*)=2$ and $\\text{proj}(x|pc)=\\text{proj}(x^*|pc)$."
   ]
  },
  {
   "cell_type": "code",
   "execution_count": null,
   "metadata": {
    "collapsed": false,
    "scrolled": false
   },
   "outputs": [],
   "source": [
    "function plotprice(pc, price)\n",
    "    x,y = price ./ pc\n",
    "    plot([0, x], [y, 0])\n",
    "end\n",
    "function Fig3(prices)\n",
    "    Fig1()\n",
    "    map(p -> plotprice(pc, p), prices)\n",
    "end\n",
    "Fig3(2);"
   ]
  },
  {
   "cell_type": "markdown",
   "metadata": {},
   "source": [
    "And we could do this for all prices as depicted below. Importantly, the resulting constant-price lines must also be parallel since it would be a contradiction for distinct constant price lines to intersect. This also implies that $p(x)$ is a linear function."
   ]
  },
  {
   "cell_type": "code",
   "execution_count": 463,
   "metadata": {
    "collapsed": false
   },
   "outputs": [
    {
     "data": {
      "image/png": "[encoded data removed]",
      "text/plain": [
       "Figure(PyObject <matplotlib.figure.Figure object at 0x1aee1ad0>)"
      ]
     },
     "metadata": {},
     "output_type": "display_data"
    },
    {
     "data": {
      "text/plain": [
       "1x4 Array{Array{Any,1},2}:\n",
       " {PyObject <matplotlib.lines.Line2D object at 0x174ad610>}  …  {PyObject <matplotlib.lines.Line2D object at 0x174a84d0>}"
      ]
     },
     "execution_count": 463,
     "metadata": {},
     "output_type": "execute_result"
    }
   ],
   "source": [
    "Fig3([0 1 2 3])"
   ]
  },
  {
   "cell_type": "markdown",
   "metadata": {},
   "source": [
    "To see the linearity of the pricing function more explicitly, we can abandon the inner product interpretation and instead treat the constant-price lines as what they really are: contour lines for a function $p(x)$ in the third dimension. Just as the contour lines and a linear $p(x)$ imply, $p(x)$ traces out a plane."
   ]
  },
  {
   "cell_type": "code",
   "execution_count": null,
   "metadata": {
    "collapsed": false
   },
   "outputs": [],
   "source": [
    "function Fig4()\n",
    "    X,Y = meshgrid(-1:0.1:3, -1:0.1:3)\n",
    "    p = (pc[1]*X .+ pc[2]*Y)\n",
    "    use = (p .> 0)\n",
    "    plot_wireframe(X[use], Y[use], p[use], rstride=25, cstride=25)\n",
    "end\n",
    "Fig4()"
   ]
  },
  {
   "cell_type": "code",
   "execution_count": null,
   "metadata": {
    "collapsed": true
   },
   "outputs": [],
   "source": []
  }
 ],
 "metadata": {
  "kernelspec": {
   "display_name": "Julia 0.3.8",
   "language": "julia",
   "name": "julia-0.3"
  },
  "language_info": {
   "name": "julia",
   "version": "0.3.8"
  }
 },
 "nbformat": 4,
 "nbformat_minor": 0
}
